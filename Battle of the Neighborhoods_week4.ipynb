{
 "cells": [
  {
   "cell_type": "markdown",
   "metadata": {},
   "source": [
    "# Battle of the Neighborhoods"
   ]
  },
  {
   "cell_type": "markdown",
   "metadata": {},
   "source": [
    "## Introduction"
   ]
  },
  {
   "cell_type": "markdown",
   "metadata": {},
   "source": [
    "Shopping malls are a great place for people to relax. People can spend a wonderful weekend with their families, where people can buy some essential necessities and some other useful things, so the mall must be set up in a crowded community. . But there are also other issues to consider, such as land prices, competition between malls, and so on. In addition to these complex factors, the final important factor in determining whether a mall can be profitable is how to choose a location. If we want to open a new mall in Beijing, the capital of China, how to choose the best location. Now my friend LEE wants to open a new shopping mall in Beijing. Below I will use data analysis to help him determine the best place to open a mall. "
   ]
  },
  {
   "cell_type": "markdown",
   "metadata": {},
   "source": [
    "## Business Problem"
   ]
  },
  {
   "cell_type": "markdown",
   "metadata": {},
   "source": [
    "In order for Lee's shopping mall to make money, we need some information about Beijing. We must ensure that there are enough consumers in the mall to open, and there is no mall nearby to compete with him, so that he can earn a lot of money."
   ]
  },
  {
   "cell_type": "markdown",
   "metadata": {},
   "source": [
    "## Data"
   ]
  },
  {
   "cell_type": "markdown",
   "metadata": {},
   "source": [
    "#### 3.1 synopsis\n",
    "The cities we will be analysing in this project are : Beijing, China.\n",
    "We will be using the below datasets for analysing Beijing.\n",
    "*\tThe Localities of Beijing, China from Wikipedia: https://en.wikipedia.org/wiki/Category:Neighbourhoods_of_Beijing\n",
    "*\tThe coordinates (latitude, longitude) of these Localities of Beijing, OR from Open Street Map APIs\n",
    "*\tFrom Foursquare we will need following venues data:\n",
    "    *\tthe shopping mall venues of the Localities.\n",
    "\n",
    "We will then leverage the data in order to determine which locality is the most appropriate in order to locate the shopping mall.\n",
    "#### 3.2 Sources of data\n",
    "This Wikipedia page (https://en.wikipedia.org/wiki/Category:Neighbourhoods_of_Beijing) contains\n",
    "a list of neighborhoods in Beijing, with a total of 50 neighborhoods. We will use web scraping techniques to extract the data from the Wikipedia page, with the help of Python requests and beautifulsoup packages. Then we will get the geographical coordinates of the neighborhoods using Python Geocoder package which will give us the latitude and longitude coordinates of the neighborhoods. After that, we will use Foursquare API to get the venue data for those neighborhoods. Foursquare API will provide many categories of the venue data, we are particularly interested in the Shopping Mall category in order to help us to solve the business problem put forward. This is a project that will make\n",
    "use of many data science skills, from web scraping (Wikipedia), working with API (Foursquare), to machine learning (K-means clustering) and map visualization (Folium). In the next section, we will present the Methodology section where we will discuss the steps taken in this project, the data analysis that we did and the machine learning technique that was used.\n",
    "\n"
   ]
  },
  {
   "cell_type": "code",
   "execution_count": null,
   "metadata": {},
   "outputs": [],
   "source": []
  }
 ],
 "metadata": {
  "kernelspec": {
   "display_name": "Python 3",
   "language": "python",
   "name": "python3"
  },
  "language_info": {
   "codemirror_mode": {
    "name": "ipython",
    "version": 3
   },
   "file_extension": ".py",
   "mimetype": "text/x-python",
   "name": "python",
   "nbconvert_exporter": "python",
   "pygments_lexer": "ipython3",
   "version": "3.7.1"
  }
 },
 "nbformat": 4,
 "nbformat_minor": 2
}
