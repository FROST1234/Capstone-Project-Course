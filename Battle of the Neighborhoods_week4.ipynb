{
 "cells": [
  {
   "cell_type": "markdown",
   "metadata": {},
   "source": [
    "# Battle of the Neighborhoods"
   ]
  },
  {
   "cell_type": "markdown",
   "metadata": {},
   "source": [
    "## Introduction"
   ]
  },
  {
   "cell_type": "markdown",
   "metadata": {},
   "source": [
    "Lee wants to open a big shopping mall in some areas of Nanchang, a city in central China. He needs to know where the best place to open a shopping mall, so he doesn't want to be close to other malls and can get enough people."
   ]
  },
  {
   "cell_type": "markdown",
   "metadata": {},
   "source": [
    "## Business Problem"
   ]
  },
  {
   "cell_type": "markdown",
   "metadata": {},
   "source": [
    "In order for Lee's shopping mall to make money, we need some information about Nanchang. We must ensure that there are enough consumers in the mall to open, and there is no mall nearby to compete with him, so that he can earn a lot of money."
   ]
  },
  {
   "cell_type": "markdown",
   "metadata": {},
   "source": [
    "## Data"
   ]
  },
  {
   "cell_type": "markdown",
   "metadata": {},
   "source": [
    "The cities we will be analysing in this project are : Nanchang, Jiangxi.\n",
    "\n",
    "We will be using the below datasets for analysing Nanchang.\n",
    "\n",
    "* The Localities of Portland, Oregon from Wikipedia: https://en.wikipedia.org/wiki/Nanchang\n",
    "\n",
    "* The coordinates (latitude, longitude) of these Localities of Nanchang, OR from Open Street Map APIs\n",
    "\n",
    "* From Foursquare we will need following venues data:\n",
    "\n",
    " * the shopping mall venues of the Localities.\n",
    " \n",
    "We will then leverage the data in order to determine which locality is the most appropriate in order to locate the shopping mall."
   ]
  },
  {
   "cell_type": "code",
   "execution_count": null,
   "metadata": {},
   "outputs": [],
   "source": []
  }
 ],
 "metadata": {
  "kernelspec": {
   "display_name": "Python 3",
   "language": "python",
   "name": "python3"
  },
  "language_info": {
   "codemirror_mode": {
    "name": "ipython",
    "version": 3
   },
   "file_extension": ".py",
   "mimetype": "text/x-python",
   "name": "python",
   "nbconvert_exporter": "python",
   "pygments_lexer": "ipython3",
   "version": "3.7.1"
  }
 },
 "nbformat": 4,
 "nbformat_minor": 2
}
